{
 "cells": [
  {
   "cell_type": "markdown",
   "id": "397758a8",
   "metadata": {},
   "source": [
    "# Introduction\n",
    "\n",
    "In this notebook we will scrape CBSL website and download daily price reports"
   ]
  },
  {
   "cell_type": "code",
   "execution_count": null,
   "id": "a79fe752",
   "metadata": {},
   "outputs": [],
   "source": [
    "import sys\n",
    "import os"
   ]
  },
  {
   "cell_type": "code",
   "execution_count": null,
   "id": "1cb05f54",
   "metadata": {},
   "outputs": [],
   "source": []
  }
 ],
 "metadata": {
  "kernelspec": {
   "display_name": "rice_price_collector",
   "language": "python",
   "name": "python3"
  },
  "language_info": {
   "name": "python",
   "version": "3.10.19"
  }
 },
 "nbformat": 4,
 "nbformat_minor": 5
}
